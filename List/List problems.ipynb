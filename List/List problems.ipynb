{
 "cells": [
  {
   "cell_type": "markdown",
   "id": "fb794e5b",
   "metadata": {},
   "source": [
    "# check element in a list"
   ]
  },
  {
   "cell_type": "code",
   "execution_count": 1,
   "id": "c488c884",
   "metadata": {},
   "outputs": [
    {
     "data": {
      "text/plain": [
       "True"
      ]
     },
     "execution_count": 1,
     "metadata": {},
     "output_type": "execute_result"
    }
   ],
   "source": [
    "list1 = ['1','2',1,2,3,'a']\n",
    "'a' in list1"
   ]
  },
  {
   "cell_type": "markdown",
   "id": "d7795826",
   "metadata": {},
   "source": [
    "# Iterate over two or multiple lists"
   ]
  },
  {
   "cell_type": "code",
   "execution_count": 6,
   "id": "3dbec17e",
   "metadata": {},
   "outputs": [
    {
     "name": "stdout",
     "output_type": "stream",
     "text": [
      "abc 12\n",
      "def 19\n",
      "ghi 29\n",
      "abs 31\n",
      "as 49\n"
     ]
    }
   ],
   "source": [
    "name = [\"abc\", \"def\",\"ghi\",\"abs\",\"as\"]\n",
    "age = [12,19,29,31,49]\n",
    "z = zip(name,age)\n",
    "for list1,list2 in z:\n",
    "    print(list1,list2)"
   ]
  },
  {
   "cell_type": "code",
   "execution_count": null,
   "id": "13522a8f",
   "metadata": {},
   "outputs": [],
   "source": []
  }
 ],
 "metadata": {
  "kernelspec": {
   "display_name": "Python 3 (ipykernel)",
   "language": "python",
   "name": "python3"
  },
  "language_info": {
   "codemirror_mode": {
    "name": "ipython",
    "version": 3
   },
   "file_extension": ".py",
   "mimetype": "text/x-python",
   "name": "python",
   "nbconvert_exporter": "python",
   "pygments_lexer": "ipython3",
   "version": "3.11.4"
  }
 },
 "nbformat": 4,
 "nbformat_minor": 5
}
